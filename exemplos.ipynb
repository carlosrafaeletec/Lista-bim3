{
 "cells": [
  {
   "attachments": {},
   "cell_type": "markdown",
   "metadata": {},
   "source": [
    "## Exemplos\n",
    "\n",
    "Como percorrer uma lista\n"
   ]
  },
  {
   "cell_type": "code",
   "execution_count": 3,
   "metadata": {},
   "outputs": [
    {
     "name": "stdout",
     "output_type": "stream",
     "text": [
      "Quantidade de inteiros: 2\n"
     ]
    }
   ],
   "source": [
    "lista = [\"34\", \"12\", \"True\", \"false\", \"34.7\"]\n",
    "\n",
    "def conta_inteiros(l: list) -> list:\n",
    "    qtd = 0\n",
    "    for elem in l:\n",
    "        if elem.isdigit():\n",
    "            qtd += 1\n",
    "    return qtd\n",
    "\n",
    "# Funcionamento do enumarate\n",
    "# for ind, elem in enumarate(l):\n",
    "\n",
    "x = conta_inteiros(lista)\n",
    "print(f\"Quantidade de inteiros: {x}\")"
   ]
  }
 ],
 "metadata": {
  "kernelspec": {
   "display_name": "Python 3",
   "language": "python",
   "name": "python3"
  },
  "language_info": {
   "codemirror_mode": {
    "name": "ipython",
    "version": 3
   },
   "file_extension": ".py",
   "mimetype": "text/x-python",
   "name": "python",
   "nbconvert_exporter": "python",
   "pygments_lexer": "ipython3",
   "version": "3.11.4"
  },
  "orig_nbformat": 4
 },
 "nbformat": 4,
 "nbformat_minor": 2
}
