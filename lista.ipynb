{
 "cells": [
  {
   "attachments": {},
   "cell_type": "markdown",
   "metadata": {},
   "source": [
    "## Lista de Exercicios\n",
    "\n",
    "### Exercicio 1"
   ]
  },
  {
   "cell_type": "code",
   "execution_count": 36,
   "metadata": {},
   "outputs": [
    {
     "ename": "TypeError",
     "evalue": "'list' object cannot be interpreted as an integer",
     "output_type": "error",
     "traceback": [
      "\u001b[1;31m---------------------------------------------------------------------------\u001b[0m",
      "\u001b[1;31mTypeError\u001b[0m                                 Traceback (most recent call last)",
      "Cell \u001b[1;32mIn[36], line 10\u001b[0m\n\u001b[0;32m      7\u001b[0m         i \u001b[39m-\u001b[39m\u001b[39m=\u001b[39m \u001b[39m1\u001b[39m\n\u001b[0;32m      8\u001b[0m     \u001b[39mprint\u001b[39m(l)\n\u001b[1;32m---> 10\u001b[0m preenche_lista(lista)\n",
      "Cell \u001b[1;32mIn[36], line 3\u001b[0m, in \u001b[0;36mpreenche_lista\u001b[1;34m(l)\u001b[0m\n\u001b[0;32m      2\u001b[0m \u001b[39mdef\u001b[39;00m \u001b[39mpreenche_lista\u001b[39m(l: \u001b[39mlist\u001b[39m) \u001b[39m-\u001b[39m\u001b[39m>\u001b[39m \u001b[39mNone\u001b[39;00m:\n\u001b[1;32m----> 3\u001b[0m     \u001b[39mfor\u001b[39;00m i \u001b[39min\u001b[39;00m \u001b[39mrange\u001b[39;49m(l):\n\u001b[0;32m      4\u001b[0m         \u001b[39mif\u001b[39;00m i \u001b[39m<\u001b[39m \u001b[39m5\u001b[39m:\n\u001b[0;32m      5\u001b[0m             elem \u001b[39m=\u001b[39m \u001b[39mint\u001b[39m(\u001b[39minput\u001b[39m(\u001b[39m\"\u001b[39m\u001b[39mPreencha a lista: \u001b[39m\u001b[39m\"\u001b[39m))\n",
      "\u001b[1;31mTypeError\u001b[0m: 'list' object cannot be interpreted as an integer"
     ]
    }
   ],
   "source": [
    "lista = []\n",
    "def preenche_lista(l: list) -> None:\n",
    "    for i in range(l):\n",
    "        if i < 5:\n",
    "            elem = int(input(\"Preencha a lista: \"))\n",
    "            l.append(elem)\n",
    "        i -= 1\n",
    "    print(l)\n",
    "\n",
    "preenche_lista(lista)"
   ]
  }
 ],
 "metadata": {
  "kernelspec": {
   "display_name": "Python 3",
   "language": "python",
   "name": "python3"
  },
  "language_info": {
   "codemirror_mode": {
    "name": "ipython",
    "version": 3
   },
   "file_extension": ".py",
   "mimetype": "text/x-python",
   "name": "python",
   "nbconvert_exporter": "python",
   "pygments_lexer": "ipython3",
   "version": "3.11.4"
  },
  "orig_nbformat": 4
 },
 "nbformat": 4,
 "nbformat_minor": 2
}
